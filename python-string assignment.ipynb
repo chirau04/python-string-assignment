{
 "cells": [
  {
   "cell_type": "code",
   "execution_count": 1,
   "id": "e521c983-9295-4b8c-94db-b44fa0628708",
   "metadata": {},
   "outputs": [],
   "source": [
    "my_variable = \"this is a single 'quote'. \""
   ]
  },
  {
   "cell_type": "markdown",
   "id": "4b07afa4-dc5c-4442-a9ae-746beb55cd57",
   "metadata": {},
   "source": [
    "In this case, x = 'a'would generally be considered a character type variable. the single quote around the 'a' indicate that it represents a character rather than a sequence of characters (string). character types often use single quotes in various proramming language to distinguish them from strings , which are usually enclosed in double quotes. "
   ]
  },
  {
   "cell_type": "code",
   "execution_count": 3,
   "id": "f77096cc-0107-4e53-a370-34d867042491",
   "metadata": {},
   "outputs": [],
   "source": [
    "text = 'welcome to python foundation course'"
   ]
  },
  {
   "cell_type": "markdown",
   "id": "018f900c-f70c-4767-a132-020c3d8ea074",
   "metadata": {},
   "source": [
    "# find()"
   ]
  },
  {
   "cell_type": "code",
   "execution_count": 4,
   "id": "e9cc1932-1790-4e5a-9dc8-a1a87f135ddd",
   "metadata": {},
   "outputs": [
    {
     "name": "stdout",
     "output_type": "stream",
     "text": [
      "find(): 'python' found at index 11\n"
     ]
    }
   ],
   "source": [
    "position = text.find('python')\n",
    "print(f\"find(): 'python' found at index {position}\")"
   ]
  },
  {
   "cell_type": "markdown",
   "id": "118b0b26-a617-4ede-87f8-076c3d032799",
   "metadata": {},
   "source": [
    "# count()"
   ]
  },
  {
   "cell_type": "code",
   "execution_count": 5,
   "id": "515aa633-260f-4ecc-a2df-09890f0d446f",
   "metadata": {},
   "outputs": [
    {
     "name": "stdout",
     "output_type": "stream",
     "text": [
      "count(): '0' appears 0times\n"
     ]
    }
   ],
   "source": [
    "occurences = text.count('0')\n",
    "print(f\"count(): '0' appears {occurences}times\")"
   ]
  },
  {
   "cell_type": "markdown",
   "id": "01bee38b-c75a-446f-8636-fe2c8b269aba",
   "metadata": {},
   "source": [
    "# len()"
   ]
  },
  {
   "cell_type": "code",
   "execution_count": 6,
   "id": "2ac2f207-a46c-463d-9647-27edff51375f",
   "metadata": {},
   "outputs": [
    {
     "name": "stdout",
     "output_type": "stream",
     "text": [
      "len(): length of the string is 35\n"
     ]
    }
   ],
   "source": [
    "length = len(text)\n",
    "print(f\"len(): length of the string is {length}\")"
   ]
  },
  {
   "cell_type": "markdown",
   "id": "3806c4c0-5bd9-45af-bc6e-6040747d3322",
   "metadata": {},
   "source": [
    "# concatenation"
   ]
  },
  {
   "cell_type": "code",
   "execution_count": 7,
   "id": "6052d792-ca62-4b65-830f-82fa0632d69b",
   "metadata": {},
   "outputs": [
    {
     "name": "stdout",
     "output_type": "stream",
     "text": [
      "concatenation: welcome to python foundation course- advanced topics\n"
     ]
    }
   ],
   "source": [
    "new_text = text + '- advanced topics' \n",
    "print(f\"concatenation: {new_text}\")"
   ]
  },
  {
   "cell_type": "code",
   "execution_count": 8,
   "id": "fc92d5b1-5c23-499e-bc50-90a00bcab109",
   "metadata": {},
   "outputs": [],
   "source": [
    "word = 'panaji@12256'"
   ]
  },
  {
   "cell_type": "code",
   "execution_count": 9,
   "id": "050f4d25-b56a-4f75-94ca-28fb507010c2",
   "metadata": {},
   "outputs": [
    {
     "name": "stdout",
     "output_type": "stream",
     "text": [
      "a. total number of alphabets in lowercase: 6\n"
     ]
    }
   ],
   "source": [
    "lowercase_count = sum(c.islower() for c in word)\n",
    "print(f\"a. total number of alphabets in lowercase: {lowercase_count}\")"
   ]
  },
  {
   "cell_type": "code",
   "execution_count": 10,
   "id": "5f335309-a873-4f50-a7f2-e2122c0d6c11",
   "metadata": {},
   "outputs": [
    {
     "name": "stdout",
     "output_type": "stream",
     "text": [
      "b. total number of alphabets in uppercase: 0\n"
     ]
    }
   ],
   "source": [
    "uppercase_count = sum(c.isupper() for c in word)\n",
    "print(f\"b. total number of alphabets in uppercase: {uppercase_count}\")"
   ]
  },
  {
   "cell_type": "code",
   "execution_count": 11,
   "id": "874e361c-5cbb-4c0b-baa2-9b76b8dd1d9c",
   "metadata": {},
   "outputs": [
    {
     "name": "stdout",
     "output_type": "stream",
     "text": [
      "c.total number of numerical in string: 5\n"
     ]
    }
   ],
   "source": [
    "numeric_count = sum(c.isdigit () for c in word)\n",
    "print(f\"c.total number of numerical in string: {numeric_count}\")"
   ]
  },
  {
   "cell_type": "code",
   "execution_count": 12,
   "id": "2d6d8fcc-5278-445d-951d-8dd9751f8c4e",
   "metadata": {},
   "outputs": [],
   "source": [
    "numerical_value = 42"
   ]
  },
  {
   "cell_type": "markdown",
   "id": "e9f6add7-49de-4618-a548-58e6689d595d",
   "metadata": {},
   "source": [
    "#convert the numerical value to a string "
   ]
  },
  {
   "cell_type": "code",
   "execution_count": 14,
   "id": "88fee4fd-6eec-4d06-9122-928b46163baa",
   "metadata": {},
   "outputs": [
    {
     "name": "stdout",
     "output_type": "stream",
     "text": [
      "original numerical value:42\n"
     ]
    }
   ],
   "source": [
    "numerical_string = str(numerical_value)\n",
    "print(f\"original numerical value:{numerical_value}\")"
   ]
  },
  {
   "cell_type": "code",
   "execution_count": null,
   "id": "d9e77321-fdb9-4279-97b1-f328388a7e6a",
   "metadata": {},
   "outputs": [],
   "source": [
    "print(f\"converted tostri"
   ]
  }
 ],
 "metadata": {
  "kernelspec": {
   "display_name": "Python 3 (ipykernel)",
   "language": "python",
   "name": "python3"
  },
  "language_info": {
   "codemirror_mode": {
    "name": "ipython",
    "version": 3
   },
   "file_extension": ".py",
   "mimetype": "text/x-python",
   "name": "python",
   "nbconvert_exporter": "python",
   "pygments_lexer": "ipython3",
   "version": "3.10.8"
  }
 },
 "nbformat": 4,
 "nbformat_minor": 5
}
